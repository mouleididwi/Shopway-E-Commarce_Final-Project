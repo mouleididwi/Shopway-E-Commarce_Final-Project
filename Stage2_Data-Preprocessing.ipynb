{
 "cells": [
  {
   "cell_type": "code",
   "execution_count": 1,
   "metadata": {
    "colab": {
     "base_uri": "https://localhost:8080/"
    },
    "id": "1iwhw1piAAj_",
    "outputId": "27cf7aa5-b0c9-4191-a193-ac62005dc22f"
   },
   "outputs": [
    {
     "name": "stdout",
     "output_type": "stream",
     "text": [
      "numpy version :  1.26.4\n",
      "pandas version :  2.2.2\n",
      "seaborn version :  0.13.2\n"
     ]
    }
   ],
   "source": [
    "import warnings\n",
    "warnings.filterwarnings('ignore')\n",
    "\n",
    "import numpy as np\n",
    "import pandas as pd\n",
    "import seaborn as sns\n",
    "import matplotlib.pyplot as plt\n",
    "%matplotlib inline\n",
    "\n",
    "print('numpy version : ',np.__version__)\n",
    "print('pandas version : ',pd.__version__)\n",
    "print('seaborn version : ',sns.__version__)\n",
    "\n",
    "#statistics tools\n",
    "import statsmodels.api as sm\n",
    "import scipy.stats as st\n",
    "from scipy.stats import shapiro, mannwhitneyu, chi2_contingency\n",
    "\n",
    "#scikit learn framework\n",
    "from sklearn import metrics\n",
    "from sklearn.model_selection import train_test_split\n",
    "from sklearn import svm\n",
    "from sklearn.naive_bayes import GaussianNB\n",
    "\n",
    "import warnings"
   ]
  },
  {
   "cell_type": "code",
   "execution_count": 2,
   "metadata": {
    "id": "4kXQi6VmAdNb"
   },
   "outputs": [],
   "source": [
    "df = pd.read_csv('dataset.csv')"
   ]
  },
  {
   "cell_type": "code",
   "execution_count": 3,
   "metadata": {
    "colab": {
     "base_uri": "https://localhost:8080/",
     "height": 383
    },
    "id": "grpbhW8hAhvU",
    "outputId": "a10ff36a-216b-4641-9820-6f0a2d11b2a1"
   },
   "outputs": [
    {
     "data": {
      "text/html": [
       "<div>\n",
       "<style scoped>\n",
       "    .dataframe tbody tr th:only-of-type {\n",
       "        vertical-align: middle;\n",
       "    }\n",
       "\n",
       "    .dataframe tbody tr th {\n",
       "        vertical-align: top;\n",
       "    }\n",
       "\n",
       "    .dataframe thead th {\n",
       "        text-align: right;\n",
       "    }\n",
       "</style>\n",
       "<table border=\"1\" class=\"dataframe\">\n",
       "  <thead>\n",
       "    <tr style=\"text-align: right;\">\n",
       "      <th></th>\n",
       "      <th>Administrative</th>\n",
       "      <th>Administrative_Duration</th>\n",
       "      <th>Informational</th>\n",
       "      <th>Informational_Duration</th>\n",
       "      <th>ProductRelated</th>\n",
       "      <th>ProductRelated_Duration</th>\n",
       "      <th>BounceRates</th>\n",
       "      <th>ExitRates</th>\n",
       "      <th>PageValues</th>\n",
       "      <th>SpecialDay</th>\n",
       "      <th>Month</th>\n",
       "      <th>OperatingSystems</th>\n",
       "      <th>Browser</th>\n",
       "      <th>Region</th>\n",
       "      <th>TrafficType</th>\n",
       "      <th>VisitorType</th>\n",
       "      <th>Weekend</th>\n",
       "      <th>Revenue</th>\n",
       "    </tr>\n",
       "  </thead>\n",
       "  <tbody>\n",
       "    <tr>\n",
       "      <th>4854</th>\n",
       "      <td>10.0</td>\n",
       "      <td>268.000000</td>\n",
       "      <td>2</td>\n",
       "      <td>7.0</td>\n",
       "      <td>24</td>\n",
       "      <td>551.666667</td>\n",
       "      <td>0.008333</td>\n",
       "      <td>0.020833</td>\n",
       "      <td>0.000000</td>\n",
       "      <td>0.0</td>\n",
       "      <td>May</td>\n",
       "      <td>2.0</td>\n",
       "      <td>2</td>\n",
       "      <td>1</td>\n",
       "      <td>2</td>\n",
       "      <td>Returning_Visitor</td>\n",
       "      <td>False</td>\n",
       "      <td>False</td>\n",
       "    </tr>\n",
       "    <tr>\n",
       "      <th>8823</th>\n",
       "      <td>0.0</td>\n",
       "      <td>0.000000</td>\n",
       "      <td>0</td>\n",
       "      <td>0.0</td>\n",
       "      <td>4</td>\n",
       "      <td>53.625000</td>\n",
       "      <td>0.000000</td>\n",
       "      <td>0.050000</td>\n",
       "      <td>0.000000</td>\n",
       "      <td>0.0</td>\n",
       "      <td>Nov</td>\n",
       "      <td>3.0</td>\n",
       "      <td>2</td>\n",
       "      <td>1</td>\n",
       "      <td>11</td>\n",
       "      <td>Returning_Visitor</td>\n",
       "      <td>False</td>\n",
       "      <td>False</td>\n",
       "    </tr>\n",
       "    <tr>\n",
       "      <th>11038</th>\n",
       "      <td>0.0</td>\n",
       "      <td>0.000000</td>\n",
       "      <td>0</td>\n",
       "      <td>0.0</td>\n",
       "      <td>23</td>\n",
       "      <td>736.233333</td>\n",
       "      <td>0.004545</td>\n",
       "      <td>0.013636</td>\n",
       "      <td>140.662137</td>\n",
       "      <td>0.0</td>\n",
       "      <td>Dec</td>\n",
       "      <td>1.0</td>\n",
       "      <td>8</td>\n",
       "      <td>1</td>\n",
       "      <td>11</td>\n",
       "      <td>New_Visitor</td>\n",
       "      <td>False</td>\n",
       "      <td>True</td>\n",
       "    </tr>\n",
       "    <tr>\n",
       "      <th>6951</th>\n",
       "      <td>4.0</td>\n",
       "      <td>82.000000</td>\n",
       "      <td>0</td>\n",
       "      <td>0.0</td>\n",
       "      <td>17</td>\n",
       "      <td>269.000000</td>\n",
       "      <td>0.034783</td>\n",
       "      <td>0.046377</td>\n",
       "      <td>0.000000</td>\n",
       "      <td>0.0</td>\n",
       "      <td>Jul</td>\n",
       "      <td>3.0</td>\n",
       "      <td>2</td>\n",
       "      <td>1</td>\n",
       "      <td>13</td>\n",
       "      <td>Returning_Visitor</td>\n",
       "      <td>False</td>\n",
       "      <td>False</td>\n",
       "    </tr>\n",
       "    <tr>\n",
       "      <th>4652</th>\n",
       "      <td>0.0</td>\n",
       "      <td>NaN</td>\n",
       "      <td>0</td>\n",
       "      <td>0.0</td>\n",
       "      <td>6</td>\n",
       "      <td>224.000000</td>\n",
       "      <td>0.000000</td>\n",
       "      <td>0.011111</td>\n",
       "      <td>0.000000</td>\n",
       "      <td>0.0</td>\n",
       "      <td>May</td>\n",
       "      <td>1.0</td>\n",
       "      <td>1</td>\n",
       "      <td>1</td>\n",
       "      <td>3</td>\n",
       "      <td>Returning_Visitor</td>\n",
       "      <td>True</td>\n",
       "      <td>False</td>\n",
       "    </tr>\n",
       "    <tr>\n",
       "      <th>7234</th>\n",
       "      <td>1.0</td>\n",
       "      <td>18.200000</td>\n",
       "      <td>0</td>\n",
       "      <td>0.0</td>\n",
       "      <td>22</td>\n",
       "      <td>NaN</td>\n",
       "      <td>0.009091</td>\n",
       "      <td>0.015909</td>\n",
       "      <td>0.000000</td>\n",
       "      <td>0.0</td>\n",
       "      <td>Oct</td>\n",
       "      <td>2.0</td>\n",
       "      <td>2</td>\n",
       "      <td>7</td>\n",
       "      <td>3</td>\n",
       "      <td>Returning_Visitor</td>\n",
       "      <td>False</td>\n",
       "      <td>False</td>\n",
       "    </tr>\n",
       "    <tr>\n",
       "      <th>4797</th>\n",
       "      <td>3.0</td>\n",
       "      <td>74.000000</td>\n",
       "      <td>0</td>\n",
       "      <td>0.0</td>\n",
       "      <td>8</td>\n",
       "      <td>129.000000</td>\n",
       "      <td>0.033333</td>\n",
       "      <td>0.072222</td>\n",
       "      <td>0.000000</td>\n",
       "      <td>0.0</td>\n",
       "      <td>May</td>\n",
       "      <td>3.0</td>\n",
       "      <td>2</td>\n",
       "      <td>3</td>\n",
       "      <td>3</td>\n",
       "      <td>Returning_Visitor</td>\n",
       "      <td>False</td>\n",
       "      <td>False</td>\n",
       "    </tr>\n",
       "    <tr>\n",
       "      <th>5192</th>\n",
       "      <td>1.0</td>\n",
       "      <td>10.500000</td>\n",
       "      <td>0</td>\n",
       "      <td>0.0</td>\n",
       "      <td>49</td>\n",
       "      <td>1747.125000</td>\n",
       "      <td>0.027660</td>\n",
       "      <td>0.048014</td>\n",
       "      <td>0.000000</td>\n",
       "      <td>0.2</td>\n",
       "      <td>May</td>\n",
       "      <td>2.0</td>\n",
       "      <td>4</td>\n",
       "      <td>1</td>\n",
       "      <td>4</td>\n",
       "      <td>Returning_Visitor</td>\n",
       "      <td>False</td>\n",
       "      <td>False</td>\n",
       "    </tr>\n",
       "    <tr>\n",
       "      <th>7613</th>\n",
       "      <td>1.0</td>\n",
       "      <td>19.200000</td>\n",
       "      <td>0</td>\n",
       "      <td>0.0</td>\n",
       "      <td>55</td>\n",
       "      <td>3134.066667</td>\n",
       "      <td>0.000000</td>\n",
       "      <td>0.006667</td>\n",
       "      <td>5.767420</td>\n",
       "      <td>0.0</td>\n",
       "      <td>Aug</td>\n",
       "      <td>2.0</td>\n",
       "      <td>4</td>\n",
       "      <td>1</td>\n",
       "      <td>1</td>\n",
       "      <td>Returning_Visitor</td>\n",
       "      <td>True</td>\n",
       "      <td>False</td>\n",
       "    </tr>\n",
       "    <tr>\n",
       "      <th>4952</th>\n",
       "      <td>7.0</td>\n",
       "      <td>170.833333</td>\n",
       "      <td>1</td>\n",
       "      <td>39.0</td>\n",
       "      <td>4</td>\n",
       "      <td>45.333333</td>\n",
       "      <td>0.000000</td>\n",
       "      <td>0.011111</td>\n",
       "      <td>0.000000</td>\n",
       "      <td>0.0</td>\n",
       "      <td>May</td>\n",
       "      <td>3.0</td>\n",
       "      <td>2</td>\n",
       "      <td>1</td>\n",
       "      <td>2</td>\n",
       "      <td>Returning_Visitor</td>\n",
       "      <td>False</td>\n",
       "      <td>False</td>\n",
       "    </tr>\n",
       "  </tbody>\n",
       "</table>\n",
       "</div>"
      ],
      "text/plain": [
       "       Administrative  Administrative_Duration  Informational  \\\n",
       "4854             10.0               268.000000              2   \n",
       "8823              0.0                 0.000000              0   \n",
       "11038             0.0                 0.000000              0   \n",
       "6951              4.0                82.000000              0   \n",
       "4652              0.0                      NaN              0   \n",
       "7234              1.0                18.200000              0   \n",
       "4797              3.0                74.000000              0   \n",
       "5192              1.0                10.500000              0   \n",
       "7613              1.0                19.200000              0   \n",
       "4952              7.0               170.833333              1   \n",
       "\n",
       "       Informational_Duration  ProductRelated  ProductRelated_Duration  \\\n",
       "4854                      7.0              24               551.666667   \n",
       "8823                      0.0               4                53.625000   \n",
       "11038                     0.0              23               736.233333   \n",
       "6951                      0.0              17               269.000000   \n",
       "4652                      0.0               6               224.000000   \n",
       "7234                      0.0              22                      NaN   \n",
       "4797                      0.0               8               129.000000   \n",
       "5192                      0.0              49              1747.125000   \n",
       "7613                      0.0              55              3134.066667   \n",
       "4952                     39.0               4                45.333333   \n",
       "\n",
       "       BounceRates  ExitRates  PageValues  SpecialDay Month  OperatingSystems  \\\n",
       "4854      0.008333   0.020833    0.000000         0.0   May               2.0   \n",
       "8823      0.000000   0.050000    0.000000         0.0   Nov               3.0   \n",
       "11038     0.004545   0.013636  140.662137         0.0   Dec               1.0   \n",
       "6951      0.034783   0.046377    0.000000         0.0   Jul               3.0   \n",
       "4652      0.000000   0.011111    0.000000         0.0   May               1.0   \n",
       "7234      0.009091   0.015909    0.000000         0.0   Oct               2.0   \n",
       "4797      0.033333   0.072222    0.000000         0.0   May               3.0   \n",
       "5192      0.027660   0.048014    0.000000         0.2   May               2.0   \n",
       "7613      0.000000   0.006667    5.767420         0.0   Aug               2.0   \n",
       "4952      0.000000   0.011111    0.000000         0.0   May               3.0   \n",
       "\n",
       "       Browser  Region  TrafficType        VisitorType  Weekend  Revenue  \n",
       "4854         2       1            2  Returning_Visitor    False    False  \n",
       "8823         2       1           11  Returning_Visitor    False    False  \n",
       "11038        8       1           11        New_Visitor    False     True  \n",
       "6951         2       1           13  Returning_Visitor    False    False  \n",
       "4652         1       1            3  Returning_Visitor     True    False  \n",
       "7234         2       7            3  Returning_Visitor    False    False  \n",
       "4797         2       3            3  Returning_Visitor    False    False  \n",
       "5192         4       1            4  Returning_Visitor    False    False  \n",
       "7613         4       1            1  Returning_Visitor     True    False  \n",
       "4952         2       1            2  Returning_Visitor    False    False  "
      ]
     },
     "execution_count": 3,
     "metadata": {},
     "output_type": "execute_result"
    }
   ],
   "source": [
    "df.sample(10)"
   ]
  },
  {
   "cell_type": "code",
   "execution_count": 4,
   "metadata": {
    "colab": {
     "base_uri": "https://localhost:8080/"
    },
    "id": "kzImC0QwAivr",
    "outputId": "2773b1e9-a2a0-4a2b-80f9-a49a0925867f"
   },
   "outputs": [
    {
     "name": "stdout",
     "output_type": "stream",
     "text": [
      "<class 'pandas.core.frame.DataFrame'>\n",
      "RangeIndex: 12946 entries, 0 to 12945\n",
      "Data columns (total 18 columns):\n",
      " #   Column                   Non-Null Count  Dtype  \n",
      "---  ------                   --------------  -----  \n",
      " 0   Administrative           12835 non-null  float64\n",
      " 1   Administrative_Duration  12313 non-null  float64\n",
      " 2   Informational            12946 non-null  int64  \n",
      " 3   Informational_Duration   12946 non-null  float64\n",
      " 4   ProductRelated           12946 non-null  int64  \n",
      " 5   ProductRelated_Duration  12307 non-null  float64\n",
      " 6   BounceRates              12872 non-null  float64\n",
      " 7   ExitRates                12946 non-null  float64\n",
      " 8   PageValues               12946 non-null  float64\n",
      " 9   SpecialDay               12946 non-null  float64\n",
      " 10  Month                    12946 non-null  object \n",
      " 11  OperatingSystems         12422 non-null  float64\n",
      " 12  Browser                  12946 non-null  int64  \n",
      " 13  Region                   12946 non-null  int64  \n",
      " 14  TrafficType              12946 non-null  int64  \n",
      " 15  VisitorType              12946 non-null  object \n",
      " 16  Weekend                  12946 non-null  bool   \n",
      " 17  Revenue                  12946 non-null  bool   \n",
      "dtypes: bool(2), float64(9), int64(5), object(2)\n",
      "memory usage: 1.6+ MB\n"
     ]
    }
   ],
   "source": [
    "df.info()"
   ]
  },
  {
   "cell_type": "code",
   "execution_count": 5,
   "metadata": {
    "colab": {
     "base_uri": "https://localhost:8080/"
    },
    "id": "zQVl3vBMDQk1",
    "outputId": "cd11d7fb-3a40-46ef-8989-96a8afb36c03"
   },
   "outputs": [
    {
     "data": {
      "text/plain": [
       "Administrative             111\n",
       "Administrative_Duration    633\n",
       "Informational                0\n",
       "Informational_Duration       0\n",
       "ProductRelated               0\n",
       "ProductRelated_Duration    639\n",
       "BounceRates                 74\n",
       "ExitRates                    0\n",
       "PageValues                   0\n",
       "SpecialDay                   0\n",
       "Month                        0\n",
       "OperatingSystems           524\n",
       "Browser                      0\n",
       "Region                       0\n",
       "TrafficType                  0\n",
       "VisitorType                  0\n",
       "Weekend                      0\n",
       "Revenue                      0\n",
       "dtype: int64"
      ]
     },
     "execution_count": 5,
     "metadata": {},
     "output_type": "execute_result"
    }
   ],
   "source": [
    "df.isna().sum()"
   ]
  },
  {
   "cell_type": "code",
   "execution_count": 6,
   "metadata": {
    "colab": {
     "base_uri": "https://localhost:8080/"
    },
    "id": "qUx3l_5XDgZ3",
    "outputId": "ce5eb0e4-01ba-4f62-fea9-111c53f6a249"
   },
   "outputs": [
    {
     "name": "stdout",
     "output_type": "stream",
     "text": [
      "\n",
      "Number of unique values in each column:\n",
      "Administrative               27\n",
      "Administrative_Duration    3223\n",
      "Informational                17\n",
      "Informational_Duration     1258\n",
      "ProductRelated              311\n",
      "ProductRelated_Duration    9126\n",
      "BounceRates                1860\n",
      "ExitRates                  4777\n",
      "PageValues                 2704\n",
      "SpecialDay                    6\n",
      "Month                        10\n",
      "OperatingSystems              8\n",
      "Browser                      13\n",
      "Region                        9\n",
      "TrafficType                  20\n",
      "VisitorType                   3\n",
      "Weekend                       2\n",
      "Revenue                       2\n",
      "dtype: int64\n"
     ]
    }
   ],
   "source": [
    "# Periksa nilai unik di setiap kolom\n",
    "unique_values = df.nunique()\n",
    "print(\"\\nNumber of unique values in each column:\")\n",
    "print(unique_values)"
   ]
  },
  {
   "cell_type": "code",
   "execution_count": 7,
   "metadata": {
    "colab": {
     "base_uri": "https://localhost:8080/"
    },
    "id": "ts-n4PjmDs0b",
    "outputId": "f70691b4-a826-4bbc-ac6a-6072e631deeb"
   },
   "outputs": [
    {
     "data": {
      "text/plain": [
       "711"
      ]
     },
     "execution_count": 7,
     "metadata": {},
     "output_type": "execute_result"
    }
   ],
   "source": [
    "df.duplicated().sum()"
   ]
  },
  {
   "cell_type": "code",
   "execution_count": 8,
   "metadata": {
    "id": "UX-mgemBDweU"
   },
   "outputs": [],
   "source": [
    "num = ['Administrative', 'Administrative_Duration', 'Informational', 'Informational_Duration', 'ProductRelated', 'ProductRelated_Duration', 'BounceRates', 'ExitRates', 'PageValues']\n",
    "cat = ['Month', 'OperatingSystems', 'Browser', 'Region', 'TrafficType','VisitorType', 'Weekend', 'Revenue', 'SpecialDay']"
   ]
  },
  {
   "cell_type": "markdown",
   "metadata": {
    "id": "u4I-1UW0EKP5"
   },
   "source": [
    "## Data Pre-processing"
   ]
  },
  {
   "cell_type": "markdown",
   "metadata": {
    "id": "KTLDv24OEh65"
   },
   "source": [
    "1. Missing Value"
   ]
  },
  {
   "cell_type": "code",
   "execution_count": 11,
   "metadata": {
    "id": "ynVUI86dEmsl"
   },
   "outputs": [],
   "source": [
    "df = df.dropna()"
   ]
  },
  {
   "cell_type": "code",
   "execution_count": 12,
   "metadata": {
    "colab": {
     "base_uri": "https://localhost:8080/"
    },
    "id": "w_Vczkd0FcYR",
    "outputId": "8f7fca50-b290-4686-c086-f03a1209ef7a"
   },
   "outputs": [
    {
     "data": {
      "text/plain": [
       "Administrative             0\n",
       "Administrative_Duration    0\n",
       "Informational              0\n",
       "Informational_Duration     0\n",
       "ProductRelated             0\n",
       "ProductRelated_Duration    0\n",
       "BounceRates                0\n",
       "ExitRates                  0\n",
       "PageValues                 0\n",
       "SpecialDay                 0\n",
       "Month                      0\n",
       "OperatingSystems           0\n",
       "Browser                    0\n",
       "Region                     0\n",
       "TrafficType                0\n",
       "VisitorType                0\n",
       "Weekend                    0\n",
       "Revenue                    0\n",
       "dtype: int64"
      ]
     },
     "execution_count": 12,
     "metadata": {},
     "output_type": "execute_result"
    }
   ],
   "source": [
    "df.isna().sum()"
   ]
  },
  {
   "cell_type": "code",
   "execution_count": 13,
   "metadata": {
    "colab": {
     "base_uri": "https://localhost:8080/"
    },
    "id": "rMDelJW8Pfmu",
    "outputId": "ee824b45-aa4d-4d58-dcca-311161f1f0b8"
   },
   "outputs": [
    {
     "name": "stdout",
     "output_type": "stream",
     "text": [
      "<class 'pandas.core.frame.DataFrame'>\n",
      "Index: 11082 entries, 0 to 12945\n",
      "Data columns (total 18 columns):\n",
      " #   Column                   Non-Null Count  Dtype  \n",
      "---  ------                   --------------  -----  \n",
      " 0   Administrative           11082 non-null  float64\n",
      " 1   Administrative_Duration  11082 non-null  float64\n",
      " 2   Informational            11082 non-null  int64  \n",
      " 3   Informational_Duration   11082 non-null  float64\n",
      " 4   ProductRelated           11082 non-null  int64  \n",
      " 5   ProductRelated_Duration  11082 non-null  float64\n",
      " 6   BounceRates              11082 non-null  float64\n",
      " 7   ExitRates                11082 non-null  float64\n",
      " 8   PageValues               11082 non-null  float64\n",
      " 9   SpecialDay               11082 non-null  float64\n",
      " 10  Month                    11082 non-null  object \n",
      " 11  OperatingSystems         11082 non-null  float64\n",
      " 12  Browser                  11082 non-null  int64  \n",
      " 13  Region                   11082 non-null  int64  \n",
      " 14  TrafficType              11082 non-null  int64  \n",
      " 15  VisitorType              11082 non-null  object \n",
      " 16  Weekend                  11082 non-null  bool   \n",
      " 17  Revenue                  11082 non-null  bool   \n",
      "dtypes: bool(2), float64(9), int64(5), object(2)\n",
      "memory usage: 1.5+ MB\n"
     ]
    }
   ],
   "source": [
    "df.info()"
   ]
  },
  {
   "cell_type": "markdown",
   "metadata": {
    "id": "q0Ly5hq3HZmn"
   },
   "source": [
    "2. Duplicated Data"
   ]
  },
  {
   "cell_type": "code",
   "execution_count": 15,
   "metadata": {
    "id": "8xKrKHc_Fd2d"
   },
   "outputs": [],
   "source": [
    "df=df.drop_duplicates()"
   ]
  },
  {
   "cell_type": "code",
   "execution_count": 16,
   "metadata": {
    "colab": {
     "base_uri": "https://localhost:8080/"
    },
    "id": "tkAhRBtRHOkb",
    "outputId": "49378595-d217-4fa9-985f-10bf4713cbf7"
   },
   "outputs": [
    {
     "data": {
      "text/plain": [
       "0"
      ]
     },
     "execution_count": 16,
     "metadata": {},
     "output_type": "execute_result"
    }
   ],
   "source": [
    "df.duplicated().sum()"
   ]
  },
  {
   "cell_type": "markdown",
   "metadata": {
    "id": "HlX1jn-KHh8r"
   },
   "source": [
    "3. Handling Outliers"
   ]
  },
  {
   "cell_type": "markdown",
   "metadata": {
    "id": "gkrpCQs7b4JX"
   },
   "source": [
    "TIdak dilakukan handling outlier karena cukup banyak kehilangan data dari outliers handling menggunakan z-score dan IQR, hal ini kemungkinan karena banyak data yang 0. Outliers tidak bisa\n",
    "langsung di-drop karena data tersebut kemungkinan mewakili populasi tertentu."
   ]
  },
  {
   "cell_type": "markdown",
   "metadata": {
    "id": "cEoJ4O5UHsiD"
   },
   "source": [
    "4. Feature Transformation\n"
   ]
  },
  {
   "cell_type": "markdown",
   "metadata": {
    "id": "gowPqb1jKq0o"
   },
   "source": [
    "Transformasi data akan dilakukan setelah pemilihan fitur dan pemisahan data menggunakan standarization agar model lebih robust terhadap outliers."
   ]
  },
  {
   "cell_type": "markdown",
   "metadata": {
    "id": "cNQpixexHzhc"
   },
   "source": [
    "5. Feature Encoding"
   ]
  },
  {
   "cell_type": "code",
   "execution_count": 22,
   "metadata": {
    "id": "4vsfobomNvyM"
   },
   "outputs": [],
   "source": [
    "num = ['Administrative', 'Administrative_Duration', 'Informational', 'Informational_Duration', 'ProductRelated', 'ProductRelated_Duration', 'BounceRates', 'ExitRates', 'PageValues']\n",
    "cat = ['Month', 'OperatingSystems', 'Browser', 'Region', 'TrafficType','VisitorType', 'Weekend', 'Revenue', 'SpecialDay']"
   ]
  },
  {
   "cell_type": "code",
   "execution_count": 23,
   "metadata": {
    "id": "ckLCv2mKmyIm"
   },
   "outputs": [],
   "source": [
    "import pandas as pd\n",
    "from sklearn.preprocessing import LabelEncoder\n",
    "\n",
    "# Mengubah label encoding Month\n",
    "\n",
    "# Definisikan urutan bulan yang diinginkan\n",
    "bulan_urutan = ['Jan', 'Feb', 'Mar', 'Apr', 'May', 'June', 'Jul', 'Aug', 'Sep', 'Oct', 'Nov', 'Dec']\n",
    "\n",
    "# Buat dictionary untuk mapping bulan ke nilai numerik\n",
    "mapping = {bulan: index for index, bulan in enumerate(bulan_urutan)}\n",
    "\n",
    "\n",
    "# Lakukan mapping kolom 'Month'\n",
    "df['Month_encoded'] = df['Month'].map(mapping)\n"
   ]
  },
  {
   "cell_type": "code",
   "execution_count": 24,
   "metadata": {
    "id": "w76wbd1iLekD"
   },
   "outputs": [],
   "source": [
    "# Mengubah label encoding Revenue dan Weekend\n",
    "df['Revenue'] = df['Revenue'].astype('category').cat.codes\n",
    "df['Weekend'] = df['Weekend'].astype('category').cat.codes\n"
   ]
  },
  {
   "cell_type": "code",
   "execution_count": 25,
   "metadata": {
    "id": "0Vhei3nsMC7K"
   },
   "outputs": [],
   "source": [
    "# Melakukan one hot pada feature VisitorType\n",
    "\n",
    "# Assuming df is your DataFrame and 'VisitorType' is the column to be one-hot encoded\n",
    "onehots = pd.get_dummies(df['VisitorType'], prefix='VisitorType', prefix_sep='_is')\n",
    "\n",
    "# Bergabungkan one-hot encoded columns dengan DataFrame\n",
    "df = df.join(onehots)\n",
    "\n",
    "# Mengganti nilai True=1 dan False=0 secara manual jika diperlukan\n",
    "df.replace({True: 1, False: 0}, inplace=True)\n",
    "\n",
    "# Hapus kolom VisitorType_isOther karena sudah tidak dibutuhkan\n",
    "df.drop('VisitorType_isOther', axis=1, inplace=True)\n"
   ]
  },
  {
   "cell_type": "code",
   "execution_count": 26,
   "metadata": {
    "colab": {
     "base_uri": "https://localhost:8080/",
     "height": 412
    },
    "id": "i_C22haQO-8h",
    "outputId": "db9ded6f-bdd4-4aa2-d29b-e77eafba159f"
   },
   "outputs": [
    {
     "data": {
      "text/html": [
       "<div>\n",
       "<style scoped>\n",
       "    .dataframe tbody tr th:only-of-type {\n",
       "        vertical-align: middle;\n",
       "    }\n",
       "\n",
       "    .dataframe tbody tr th {\n",
       "        vertical-align: top;\n",
       "    }\n",
       "\n",
       "    .dataframe thead th {\n",
       "        text-align: right;\n",
       "    }\n",
       "</style>\n",
       "<table border=\"1\" class=\"dataframe\">\n",
       "  <thead>\n",
       "    <tr style=\"text-align: right;\">\n",
       "      <th></th>\n",
       "      <th>Administrative</th>\n",
       "      <th>Administrative_Duration</th>\n",
       "      <th>Informational</th>\n",
       "      <th>Informational_Duration</th>\n",
       "      <th>ProductRelated</th>\n",
       "      <th>ProductRelated_Duration</th>\n",
       "      <th>BounceRates</th>\n",
       "      <th>ExitRates</th>\n",
       "      <th>PageValues</th>\n",
       "      <th>SpecialDay</th>\n",
       "      <th>...</th>\n",
       "      <th>OperatingSystems</th>\n",
       "      <th>Browser</th>\n",
       "      <th>Region</th>\n",
       "      <th>TrafficType</th>\n",
       "      <th>VisitorType</th>\n",
       "      <th>Weekend</th>\n",
       "      <th>Revenue</th>\n",
       "      <th>Month_encoded</th>\n",
       "      <th>VisitorType_isNew_Visitor</th>\n",
       "      <th>VisitorType_isReturning_Visitor</th>\n",
       "    </tr>\n",
       "  </thead>\n",
       "  <tbody>\n",
       "    <tr>\n",
       "      <th>902</th>\n",
       "      <td>0.0</td>\n",
       "      <td>0.000000</td>\n",
       "      <td>0</td>\n",
       "      <td>0.0</td>\n",
       "      <td>25</td>\n",
       "      <td>585.000000</td>\n",
       "      <td>0.000000</td>\n",
       "      <td>0.016000</td>\n",
       "      <td>0.000000</td>\n",
       "      <td>0.0</td>\n",
       "      <td>...</td>\n",
       "      <td>4.0</td>\n",
       "      <td>1</td>\n",
       "      <td>1</td>\n",
       "      <td>3</td>\n",
       "      <td>Returning_Visitor</td>\n",
       "      <td>0</td>\n",
       "      <td>0</td>\n",
       "      <td>2</td>\n",
       "      <td>0</td>\n",
       "      <td>1</td>\n",
       "    </tr>\n",
       "    <tr>\n",
       "      <th>5291</th>\n",
       "      <td>0.0</td>\n",
       "      <td>0.000000</td>\n",
       "      <td>0</td>\n",
       "      <td>0.0</td>\n",
       "      <td>1</td>\n",
       "      <td>0.000000</td>\n",
       "      <td>0.200000</td>\n",
       "      <td>0.200000</td>\n",
       "      <td>0.000000</td>\n",
       "      <td>0.4</td>\n",
       "      <td>...</td>\n",
       "      <td>1.0</td>\n",
       "      <td>1</td>\n",
       "      <td>3</td>\n",
       "      <td>3</td>\n",
       "      <td>Returning_Visitor</td>\n",
       "      <td>0</td>\n",
       "      <td>0</td>\n",
       "      <td>4</td>\n",
       "      <td>0</td>\n",
       "      <td>1</td>\n",
       "    </tr>\n",
       "    <tr>\n",
       "      <th>3619</th>\n",
       "      <td>7.0</td>\n",
       "      <td>278.833333</td>\n",
       "      <td>2</td>\n",
       "      <td>15.0</td>\n",
       "      <td>38</td>\n",
       "      <td>2311.090909</td>\n",
       "      <td>0.004651</td>\n",
       "      <td>0.022868</td>\n",
       "      <td>4.247372</td>\n",
       "      <td>0.0</td>\n",
       "      <td>...</td>\n",
       "      <td>2.0</td>\n",
       "      <td>5</td>\n",
       "      <td>1</td>\n",
       "      <td>3</td>\n",
       "      <td>Returning_Visitor</td>\n",
       "      <td>0</td>\n",
       "      <td>0</td>\n",
       "      <td>4</td>\n",
       "      <td>0</td>\n",
       "      <td>1</td>\n",
       "    </tr>\n",
       "    <tr>\n",
       "      <th>5005</th>\n",
       "      <td>5.0</td>\n",
       "      <td>200.500000</td>\n",
       "      <td>0</td>\n",
       "      <td>0.0</td>\n",
       "      <td>49</td>\n",
       "      <td>837.416667</td>\n",
       "      <td>0.000000</td>\n",
       "      <td>0.008333</td>\n",
       "      <td>28.162750</td>\n",
       "      <td>0.0</td>\n",
       "      <td>...</td>\n",
       "      <td>2.0</td>\n",
       "      <td>2</td>\n",
       "      <td>1</td>\n",
       "      <td>3</td>\n",
       "      <td>New_Visitor</td>\n",
       "      <td>0</td>\n",
       "      <td>1</td>\n",
       "      <td>4</td>\n",
       "      <td>1</td>\n",
       "      <td>0</td>\n",
       "    </tr>\n",
       "    <tr>\n",
       "      <th>5982</th>\n",
       "      <td>2.0</td>\n",
       "      <td>9.000000</td>\n",
       "      <td>0</td>\n",
       "      <td>0.0</td>\n",
       "      <td>38</td>\n",
       "      <td>1147.696667</td>\n",
       "      <td>0.000000</td>\n",
       "      <td>0.027642</td>\n",
       "      <td>3.673829</td>\n",
       "      <td>0.0</td>\n",
       "      <td>...</td>\n",
       "      <td>2.0</td>\n",
       "      <td>2</td>\n",
       "      <td>4</td>\n",
       "      <td>1</td>\n",
       "      <td>Returning_Visitor</td>\n",
       "      <td>0</td>\n",
       "      <td>1</td>\n",
       "      <td>5</td>\n",
       "      <td>0</td>\n",
       "      <td>1</td>\n",
       "    </tr>\n",
       "    <tr>\n",
       "      <th>8929</th>\n",
       "      <td>6.0</td>\n",
       "      <td>69.125000</td>\n",
       "      <td>2</td>\n",
       "      <td>13.0</td>\n",
       "      <td>227</td>\n",
       "      <td>6854.604365</td>\n",
       "      <td>0.005702</td>\n",
       "      <td>0.020961</td>\n",
       "      <td>0.000000</td>\n",
       "      <td>0.0</td>\n",
       "      <td>...</td>\n",
       "      <td>2.0</td>\n",
       "      <td>2</td>\n",
       "      <td>1</td>\n",
       "      <td>1</td>\n",
       "      <td>Returning_Visitor</td>\n",
       "      <td>0</td>\n",
       "      <td>0</td>\n",
       "      <td>10</td>\n",
       "      <td>0</td>\n",
       "      <td>1</td>\n",
       "    </tr>\n",
       "    <tr>\n",
       "      <th>10071</th>\n",
       "      <td>1.0</td>\n",
       "      <td>31.500000</td>\n",
       "      <td>0</td>\n",
       "      <td>0.0</td>\n",
       "      <td>3</td>\n",
       "      <td>32.833333</td>\n",
       "      <td>0.000000</td>\n",
       "      <td>0.050000</td>\n",
       "      <td>0.000000</td>\n",
       "      <td>0.0</td>\n",
       "      <td>...</td>\n",
       "      <td>2.0</td>\n",
       "      <td>2</td>\n",
       "      <td>9</td>\n",
       "      <td>2</td>\n",
       "      <td>New_Visitor</td>\n",
       "      <td>1</td>\n",
       "      <td>0</td>\n",
       "      <td>11</td>\n",
       "      <td>1</td>\n",
       "      <td>0</td>\n",
       "    </tr>\n",
       "    <tr>\n",
       "      <th>4657</th>\n",
       "      <td>0.0</td>\n",
       "      <td>0.000000</td>\n",
       "      <td>2</td>\n",
       "      <td>131.0</td>\n",
       "      <td>36</td>\n",
       "      <td>868.416667</td>\n",
       "      <td>0.000000</td>\n",
       "      <td>0.001081</td>\n",
       "      <td>33.847784</td>\n",
       "      <td>0.0</td>\n",
       "      <td>...</td>\n",
       "      <td>3.0</td>\n",
       "      <td>2</td>\n",
       "      <td>7</td>\n",
       "      <td>2</td>\n",
       "      <td>New_Visitor</td>\n",
       "      <td>1</td>\n",
       "      <td>1</td>\n",
       "      <td>4</td>\n",
       "      <td>1</td>\n",
       "      <td>0</td>\n",
       "    </tr>\n",
       "    <tr>\n",
       "      <th>7739</th>\n",
       "      <td>7.0</td>\n",
       "      <td>380.800000</td>\n",
       "      <td>0</td>\n",
       "      <td>0.0</td>\n",
       "      <td>50</td>\n",
       "      <td>2653.196667</td>\n",
       "      <td>0.015686</td>\n",
       "      <td>0.027908</td>\n",
       "      <td>0.000000</td>\n",
       "      <td>0.0</td>\n",
       "      <td>...</td>\n",
       "      <td>2.0</td>\n",
       "      <td>2</td>\n",
       "      <td>2</td>\n",
       "      <td>1</td>\n",
       "      <td>Returning_Visitor</td>\n",
       "      <td>0</td>\n",
       "      <td>0</td>\n",
       "      <td>7</td>\n",
       "      <td>0</td>\n",
       "      <td>1</td>\n",
       "    </tr>\n",
       "    <tr>\n",
       "      <th>10627</th>\n",
       "      <td>0.0</td>\n",
       "      <td>0.000000</td>\n",
       "      <td>0</td>\n",
       "      <td>0.0</td>\n",
       "      <td>7</td>\n",
       "      <td>58.500000</td>\n",
       "      <td>0.000000</td>\n",
       "      <td>0.057143</td>\n",
       "      <td>0.000000</td>\n",
       "      <td>0.0</td>\n",
       "      <td>...</td>\n",
       "      <td>2.0</td>\n",
       "      <td>6</td>\n",
       "      <td>9</td>\n",
       "      <td>2</td>\n",
       "      <td>Returning_Visitor</td>\n",
       "      <td>0</td>\n",
       "      <td>0</td>\n",
       "      <td>10</td>\n",
       "      <td>0</td>\n",
       "      <td>1</td>\n",
       "    </tr>\n",
       "  </tbody>\n",
       "</table>\n",
       "<p>10 rows × 21 columns</p>\n",
       "</div>"
      ],
      "text/plain": [
       "       Administrative  Administrative_Duration  Informational  \\\n",
       "902               0.0                 0.000000              0   \n",
       "5291              0.0                 0.000000              0   \n",
       "3619              7.0               278.833333              2   \n",
       "5005              5.0               200.500000              0   \n",
       "5982              2.0                 9.000000              0   \n",
       "8929              6.0                69.125000              2   \n",
       "10071             1.0                31.500000              0   \n",
       "4657              0.0                 0.000000              2   \n",
       "7739              7.0               380.800000              0   \n",
       "10627             0.0                 0.000000              0   \n",
       "\n",
       "       Informational_Duration  ProductRelated  ProductRelated_Duration  \\\n",
       "902                       0.0              25               585.000000   \n",
       "5291                      0.0               1                 0.000000   \n",
       "3619                     15.0              38              2311.090909   \n",
       "5005                      0.0              49               837.416667   \n",
       "5982                      0.0              38              1147.696667   \n",
       "8929                     13.0             227              6854.604365   \n",
       "10071                     0.0               3                32.833333   \n",
       "4657                    131.0              36               868.416667   \n",
       "7739                      0.0              50              2653.196667   \n",
       "10627                     0.0               7                58.500000   \n",
       "\n",
       "       BounceRates  ExitRates  PageValues  SpecialDay  ... OperatingSystems  \\\n",
       "902       0.000000   0.016000    0.000000         0.0  ...              4.0   \n",
       "5291      0.200000   0.200000    0.000000         0.4  ...              1.0   \n",
       "3619      0.004651   0.022868    4.247372         0.0  ...              2.0   \n",
       "5005      0.000000   0.008333   28.162750         0.0  ...              2.0   \n",
       "5982      0.000000   0.027642    3.673829         0.0  ...              2.0   \n",
       "8929      0.005702   0.020961    0.000000         0.0  ...              2.0   \n",
       "10071     0.000000   0.050000    0.000000         0.0  ...              2.0   \n",
       "4657      0.000000   0.001081   33.847784         0.0  ...              3.0   \n",
       "7739      0.015686   0.027908    0.000000         0.0  ...              2.0   \n",
       "10627     0.000000   0.057143    0.000000         0.0  ...              2.0   \n",
       "\n",
       "       Browser  Region  TrafficType        VisitorType Weekend  Revenue  \\\n",
       "902          1       1            3  Returning_Visitor       0        0   \n",
       "5291         1       3            3  Returning_Visitor       0        0   \n",
       "3619         5       1            3  Returning_Visitor       0        0   \n",
       "5005         2       1            3        New_Visitor       0        1   \n",
       "5982         2       4            1  Returning_Visitor       0        1   \n",
       "8929         2       1            1  Returning_Visitor       0        0   \n",
       "10071        2       9            2        New_Visitor       1        0   \n",
       "4657         2       7            2        New_Visitor       1        1   \n",
       "7739         2       2            1  Returning_Visitor       0        0   \n",
       "10627        6       9            2  Returning_Visitor       0        0   \n",
       "\n",
       "       Month_encoded  VisitorType_isNew_Visitor  \\\n",
       "902                2                          0   \n",
       "5291               4                          0   \n",
       "3619               4                          0   \n",
       "5005               4                          1   \n",
       "5982               5                          0   \n",
       "8929              10                          0   \n",
       "10071             11                          1   \n",
       "4657               4                          1   \n",
       "7739               7                          0   \n",
       "10627             10                          0   \n",
       "\n",
       "       VisitorType_isReturning_Visitor  \n",
       "902                                  1  \n",
       "5291                                 1  \n",
       "3619                                 1  \n",
       "5005                                 0  \n",
       "5982                                 1  \n",
       "8929                                 1  \n",
       "10071                                0  \n",
       "4657                                 0  \n",
       "7739                                 1  \n",
       "10627                                1  \n",
       "\n",
       "[10 rows x 21 columns]"
      ]
     },
     "execution_count": 26,
     "metadata": {},
     "output_type": "execute_result"
    }
   ],
   "source": [
    "df.sample(10)"
   ]
  },
  {
   "cell_type": "markdown",
   "metadata": {
    "tags": []
   },
   "source": [
    "- Untuk features : Browser, Region, TrafficType dan SpecialDay tidak dilakukan feature encoding (label encoder/one hot) diasumsikan feature tersebut sudah bernilai ordinal. \n",
    "- VisitorType_isOther hasil one hot dihapus untuk menghindari multikolinearitas pada modelling. "
   ]
  },
  {
   "cell_type": "markdown",
   "metadata": {
    "id": "LgBl4Vo-sPmX"
   },
   "source": [
    "# Feature Engineering"
   ]
  },
  {
   "cell_type": "markdown",
   "metadata": {
    "id": "eHjt0tHz6A4Y"
   },
   "source": [
    "### Feature Extraction"
   ]
  },
  {
   "cell_type": "code",
   "execution_count": 30,
   "metadata": {
    "colab": {
     "base_uri": "https://localhost:8080/",
     "height": 412
    },
    "id": "NSMtiM_G6Gns",
    "outputId": "76f0cafa-879d-4d2b-a6d1-686385f27e96"
   },
   "outputs": [
    {
     "data": {
      "text/html": [
       "<div>\n",
       "<style scoped>\n",
       "    .dataframe tbody tr th:only-of-type {\n",
       "        vertical-align: middle;\n",
       "    }\n",
       "\n",
       "    .dataframe tbody tr th {\n",
       "        vertical-align: top;\n",
       "    }\n",
       "\n",
       "    .dataframe thead th {\n",
       "        text-align: right;\n",
       "    }\n",
       "</style>\n",
       "<table border=\"1\" class=\"dataframe\">\n",
       "  <thead>\n",
       "    <tr style=\"text-align: right;\">\n",
       "      <th></th>\n",
       "      <th>Administrative</th>\n",
       "      <th>Administrative_Duration</th>\n",
       "      <th>Informational</th>\n",
       "      <th>Informational_Duration</th>\n",
       "      <th>ProductRelated</th>\n",
       "      <th>ProductRelated_Duration</th>\n",
       "      <th>BounceRates</th>\n",
       "      <th>ExitRates</th>\n",
       "      <th>PageValues</th>\n",
       "      <th>SpecialDay</th>\n",
       "      <th>...</th>\n",
       "      <th>TrafficType</th>\n",
       "      <th>VisitorType</th>\n",
       "      <th>Weekend</th>\n",
       "      <th>Revenue</th>\n",
       "      <th>Month_encoded</th>\n",
       "      <th>VisitorType_isNew_Visitor</th>\n",
       "      <th>VisitorType_isReturning_Visitor</th>\n",
       "      <th>Session_Duration</th>\n",
       "      <th>Page_Count</th>\n",
       "      <th>Avg_Duration_Per_Page</th>\n",
       "    </tr>\n",
       "  </thead>\n",
       "  <tbody>\n",
       "    <tr>\n",
       "      <th>7585</th>\n",
       "      <td>1.0</td>\n",
       "      <td>45.400000</td>\n",
       "      <td>0</td>\n",
       "      <td>0.0</td>\n",
       "      <td>41</td>\n",
       "      <td>1227.713333</td>\n",
       "      <td>0.019512</td>\n",
       "      <td>0.041057</td>\n",
       "      <td>0.000000</td>\n",
       "      <td>0.0</td>\n",
       "      <td>...</td>\n",
       "      <td>3</td>\n",
       "      <td>Returning_Visitor</td>\n",
       "      <td>0</td>\n",
       "      <td>0</td>\n",
       "      <td>9</td>\n",
       "      <td>0</td>\n",
       "      <td>1</td>\n",
       "      <td>1273.113333</td>\n",
       "      <td>42.0</td>\n",
       "      <td>30.312222</td>\n",
       "    </tr>\n",
       "    <tr>\n",
       "      <th>6635</th>\n",
       "      <td>2.0</td>\n",
       "      <td>55.400000</td>\n",
       "      <td>2</td>\n",
       "      <td>96.8</td>\n",
       "      <td>26</td>\n",
       "      <td>600.573333</td>\n",
       "      <td>0.013793</td>\n",
       "      <td>0.022414</td>\n",
       "      <td>2.812474</td>\n",
       "      <td>0.0</td>\n",
       "      <td>...</td>\n",
       "      <td>2</td>\n",
       "      <td>Returning_Visitor</td>\n",
       "      <td>0</td>\n",
       "      <td>0</td>\n",
       "      <td>7</td>\n",
       "      <td>0</td>\n",
       "      <td>1</td>\n",
       "      <td>752.773333</td>\n",
       "      <td>30.0</td>\n",
       "      <td>25.092444</td>\n",
       "    </tr>\n",
       "    <tr>\n",
       "      <th>8155</th>\n",
       "      <td>2.0</td>\n",
       "      <td>84.000000</td>\n",
       "      <td>0</td>\n",
       "      <td>0.0</td>\n",
       "      <td>30</td>\n",
       "      <td>597.633053</td>\n",
       "      <td>0.006667</td>\n",
       "      <td>0.005926</td>\n",
       "      <td>0.000000</td>\n",
       "      <td>0.0</td>\n",
       "      <td>...</td>\n",
       "      <td>11</td>\n",
       "      <td>Returning_Visitor</td>\n",
       "      <td>1</td>\n",
       "      <td>0</td>\n",
       "      <td>10</td>\n",
       "      <td>0</td>\n",
       "      <td>1</td>\n",
       "      <td>681.633053</td>\n",
       "      <td>32.0</td>\n",
       "      <td>21.301033</td>\n",
       "    </tr>\n",
       "    <tr>\n",
       "      <th>558</th>\n",
       "      <td>0.0</td>\n",
       "      <td>0.000000</td>\n",
       "      <td>0</td>\n",
       "      <td>0.0</td>\n",
       "      <td>7</td>\n",
       "      <td>221.500000</td>\n",
       "      <td>0.000000</td>\n",
       "      <td>0.028571</td>\n",
       "      <td>0.000000</td>\n",
       "      <td>0.0</td>\n",
       "      <td>...</td>\n",
       "      <td>3</td>\n",
       "      <td>Returning_Visitor</td>\n",
       "      <td>0</td>\n",
       "      <td>0</td>\n",
       "      <td>2</td>\n",
       "      <td>0</td>\n",
       "      <td>1</td>\n",
       "      <td>221.500000</td>\n",
       "      <td>7.0</td>\n",
       "      <td>31.642857</td>\n",
       "    </tr>\n",
       "    <tr>\n",
       "      <th>11033</th>\n",
       "      <td>3.0</td>\n",
       "      <td>199.000000</td>\n",
       "      <td>0</td>\n",
       "      <td>0.0</td>\n",
       "      <td>34</td>\n",
       "      <td>1425.566667</td>\n",
       "      <td>0.000000</td>\n",
       "      <td>0.008824</td>\n",
       "      <td>0.000000</td>\n",
       "      <td>0.0</td>\n",
       "      <td>...</td>\n",
       "      <td>2</td>\n",
       "      <td>New_Visitor</td>\n",
       "      <td>0</td>\n",
       "      <td>1</td>\n",
       "      <td>10</td>\n",
       "      <td>1</td>\n",
       "      <td>0</td>\n",
       "      <td>1624.566667</td>\n",
       "      <td>37.0</td>\n",
       "      <td>43.907207</td>\n",
       "    </tr>\n",
       "    <tr>\n",
       "      <th>6399</th>\n",
       "      <td>0.0</td>\n",
       "      <td>0.000000</td>\n",
       "      <td>0</td>\n",
       "      <td>0.0</td>\n",
       "      <td>12</td>\n",
       "      <td>274.750000</td>\n",
       "      <td>0.000000</td>\n",
       "      <td>0.030556</td>\n",
       "      <td>0.000000</td>\n",
       "      <td>0.0</td>\n",
       "      <td>...</td>\n",
       "      <td>1</td>\n",
       "      <td>Returning_Visitor</td>\n",
       "      <td>0</td>\n",
       "      <td>0</td>\n",
       "      <td>10</td>\n",
       "      <td>0</td>\n",
       "      <td>1</td>\n",
       "      <td>274.750000</td>\n",
       "      <td>12.0</td>\n",
       "      <td>22.895833</td>\n",
       "    </tr>\n",
       "    <tr>\n",
       "      <th>4301</th>\n",
       "      <td>8.0</td>\n",
       "      <td>228.833333</td>\n",
       "      <td>1</td>\n",
       "      <td>61.0</td>\n",
       "      <td>66</td>\n",
       "      <td>1505.333333</td>\n",
       "      <td>0.000000</td>\n",
       "      <td>0.009110</td>\n",
       "      <td>0.000000</td>\n",
       "      <td>0.0</td>\n",
       "      <td>...</td>\n",
       "      <td>2</td>\n",
       "      <td>Returning_Visitor</td>\n",
       "      <td>0</td>\n",
       "      <td>0</td>\n",
       "      <td>4</td>\n",
       "      <td>0</td>\n",
       "      <td>1</td>\n",
       "      <td>1795.166666</td>\n",
       "      <td>75.0</td>\n",
       "      <td>23.935556</td>\n",
       "    </tr>\n",
       "    <tr>\n",
       "      <th>2661</th>\n",
       "      <td>0.0</td>\n",
       "      <td>0.000000</td>\n",
       "      <td>0</td>\n",
       "      <td>0.0</td>\n",
       "      <td>2</td>\n",
       "      <td>83.000000</td>\n",
       "      <td>0.000000</td>\n",
       "      <td>0.050000</td>\n",
       "      <td>0.000000</td>\n",
       "      <td>0.6</td>\n",
       "      <td>...</td>\n",
       "      <td>4</td>\n",
       "      <td>New_Visitor</td>\n",
       "      <td>0</td>\n",
       "      <td>0</td>\n",
       "      <td>4</td>\n",
       "      <td>1</td>\n",
       "      <td>0</td>\n",
       "      <td>83.000000</td>\n",
       "      <td>2.0</td>\n",
       "      <td>41.500000</td>\n",
       "    </tr>\n",
       "    <tr>\n",
       "      <th>425</th>\n",
       "      <td>0.0</td>\n",
       "      <td>0.000000</td>\n",
       "      <td>0</td>\n",
       "      <td>0.0</td>\n",
       "      <td>5</td>\n",
       "      <td>288.500000</td>\n",
       "      <td>0.000000</td>\n",
       "      <td>0.012500</td>\n",
       "      <td>0.000000</td>\n",
       "      <td>0.0</td>\n",
       "      <td>...</td>\n",
       "      <td>2</td>\n",
       "      <td>Returning_Visitor</td>\n",
       "      <td>1</td>\n",
       "      <td>0</td>\n",
       "      <td>2</td>\n",
       "      <td>0</td>\n",
       "      <td>1</td>\n",
       "      <td>288.500000</td>\n",
       "      <td>5.0</td>\n",
       "      <td>57.700000</td>\n",
       "    </tr>\n",
       "    <tr>\n",
       "      <th>5626</th>\n",
       "      <td>0.0</td>\n",
       "      <td>0.000000</td>\n",
       "      <td>0</td>\n",
       "      <td>0.0</td>\n",
       "      <td>3</td>\n",
       "      <td>275.000000</td>\n",
       "      <td>0.000000</td>\n",
       "      <td>0.050000</td>\n",
       "      <td>32.897015</td>\n",
       "      <td>0.0</td>\n",
       "      <td>...</td>\n",
       "      <td>2</td>\n",
       "      <td>New_Visitor</td>\n",
       "      <td>0</td>\n",
       "      <td>1</td>\n",
       "      <td>9</td>\n",
       "      <td>1</td>\n",
       "      <td>0</td>\n",
       "      <td>275.000000</td>\n",
       "      <td>3.0</td>\n",
       "      <td>91.666667</td>\n",
       "    </tr>\n",
       "  </tbody>\n",
       "</table>\n",
       "<p>10 rows × 24 columns</p>\n",
       "</div>"
      ],
      "text/plain": [
       "       Administrative  Administrative_Duration  Informational  \\\n",
       "7585              1.0                45.400000              0   \n",
       "6635              2.0                55.400000              2   \n",
       "8155              2.0                84.000000              0   \n",
       "558               0.0                 0.000000              0   \n",
       "11033             3.0               199.000000              0   \n",
       "6399              0.0                 0.000000              0   \n",
       "4301              8.0               228.833333              1   \n",
       "2661              0.0                 0.000000              0   \n",
       "425               0.0                 0.000000              0   \n",
       "5626              0.0                 0.000000              0   \n",
       "\n",
       "       Informational_Duration  ProductRelated  ProductRelated_Duration  \\\n",
       "7585                      0.0              41              1227.713333   \n",
       "6635                     96.8              26               600.573333   \n",
       "8155                      0.0              30               597.633053   \n",
       "558                       0.0               7               221.500000   \n",
       "11033                     0.0              34              1425.566667   \n",
       "6399                      0.0              12               274.750000   \n",
       "4301                     61.0              66              1505.333333   \n",
       "2661                      0.0               2                83.000000   \n",
       "425                       0.0               5               288.500000   \n",
       "5626                      0.0               3               275.000000   \n",
       "\n",
       "       BounceRates  ExitRates  PageValues  SpecialDay  ... TrafficType  \\\n",
       "7585      0.019512   0.041057    0.000000         0.0  ...           3   \n",
       "6635      0.013793   0.022414    2.812474         0.0  ...           2   \n",
       "8155      0.006667   0.005926    0.000000         0.0  ...          11   \n",
       "558       0.000000   0.028571    0.000000         0.0  ...           3   \n",
       "11033     0.000000   0.008824    0.000000         0.0  ...           2   \n",
       "6399      0.000000   0.030556    0.000000         0.0  ...           1   \n",
       "4301      0.000000   0.009110    0.000000         0.0  ...           2   \n",
       "2661      0.000000   0.050000    0.000000         0.6  ...           4   \n",
       "425       0.000000   0.012500    0.000000         0.0  ...           2   \n",
       "5626      0.000000   0.050000   32.897015         0.0  ...           2   \n",
       "\n",
       "             VisitorType  Weekend  Revenue  Month_encoded  \\\n",
       "7585   Returning_Visitor        0        0              9   \n",
       "6635   Returning_Visitor        0        0              7   \n",
       "8155   Returning_Visitor        1        0             10   \n",
       "558    Returning_Visitor        0        0              2   \n",
       "11033        New_Visitor        0        1             10   \n",
       "6399   Returning_Visitor        0        0             10   \n",
       "4301   Returning_Visitor        0        0              4   \n",
       "2661         New_Visitor        0        0              4   \n",
       "425    Returning_Visitor        1        0              2   \n",
       "5626         New_Visitor        0        1              9   \n",
       "\n",
       "      VisitorType_isNew_Visitor  VisitorType_isReturning_Visitor  \\\n",
       "7585                          0                                1   \n",
       "6635                          0                                1   \n",
       "8155                          0                                1   \n",
       "558                           0                                1   \n",
       "11033                         1                                0   \n",
       "6399                          0                                1   \n",
       "4301                          0                                1   \n",
       "2661                          1                                0   \n",
       "425                           0                                1   \n",
       "5626                          1                                0   \n",
       "\n",
       "       Session_Duration  Page_Count  Avg_Duration_Per_Page  \n",
       "7585        1273.113333        42.0              30.312222  \n",
       "6635         752.773333        30.0              25.092444  \n",
       "8155         681.633053        32.0              21.301033  \n",
       "558          221.500000         7.0              31.642857  \n",
       "11033       1624.566667        37.0              43.907207  \n",
       "6399         274.750000        12.0              22.895833  \n",
       "4301        1795.166666        75.0              23.935556  \n",
       "2661          83.000000         2.0              41.500000  \n",
       "425          288.500000         5.0              57.700000  \n",
       "5626         275.000000         3.0              91.666667  \n",
       "\n",
       "[10 rows x 24 columns]"
      ]
     },
     "metadata": {},
     "output_type": "display_data"
    }
   ],
   "source": [
    "df['Session_Duration'] = df['Administrative_Duration'] + df['Informational_Duration'] + df['ProductRelated_Duration']\n",
    "\n",
    "# Calculate Total Page Counts\n",
    "df['Page_Count'] = df['Administrative'] + df['Informational'] + df['ProductRelated']\n",
    "\n",
    "# Calculate Average Duration per Page\n",
    "df['Avg_Duration_Per_Page'] = np.where(df['Page_Count'] > 0, df['Session_Duration'] / df['Page_Count'], 0)\n",
    "\n",
    "# Display the first 3 rows of the DataFrame\n",
    "display(df.sample(10))\n"
   ]
  },
  {
   "cell_type": "markdown",
   "metadata": {},
   "source": [
    "## Feature Tambahan untuk modelling :\n",
    "\n",
    "### Session_Duration:\n",
    "*Definisi*: Total waktu yang dihabiskan pengguna untuk berinteraksi dengan berbagai halaman selama satu sesi.<br>\n",
    "*Alasan Memilih Fitur*: Durasi sesi yang lebih lama dapat menunjukkan pengguna yang lebih tertarik dan terlibat, yang seringkali berpotensi lebih tinggi untuk konversi. Fitur ini penting untuk meningkatkan akurasi model prediksi konversi pengunjung web.\n",
    "\n",
    "### Page_Count:\n",
    "*Definisi*: Total jumlah halaman (Administratif, Informasional, ProductRelated) yang diakses pengguna selama satu sesi.<br>\n",
    "*Alasan Memilih Fitur*: Jumlah halaman yang tinggi menunjukkan eksplorasi yang lebih mendalam terhadap situs, yang bisa menjadi indikator kuat dari minat dan niat untuk konversi. Fitur ini membantu model prediksi dalam mengidentifikasi perilaku pengguna yang lebih cenderung melakukan konversi.\n",
    "\n",
    "### Avg_Duration_Per_Page:\n",
    "*Definisi*: Rata-rata waktu yang dihabiskan pada setiap halaman selama satu sesi.<br>\n",
    "*Alasan Memilih Fitur*: Durasi rata-rata per halaman memberikan gambaran tentang seberapa intens pengguna berinteraksi dengan konten di setiap halaman. Pengguna yang menghabiskan lebih banyak waktu pada setiap halaman mungkin lebih tertarik dan lebih mungkin untuk melakukan konversi. Fitur ini meningkatkan kemampuan model prediksi dalam mengidentifikasi pengguna yang berpotensi tinggi untuk konversi."
   ]
  },
  {
   "cell_type": "markdown",
   "metadata": {},
   "source": [
    "#### Feature tambahan (selain dari dataset): \n",
    "1. Waktu Kunjungan Terakhir (Time Since Last Visit)\n",
    "Definisi: Selang waktu antara kunjungan terakhir pengguna dan kunjungan saat ini. <br>\n",
    "Alasan: Pengguna yang baru saja mengunjungi situs web mungkin lebih cenderung untuk melakukan konversi karena situs tersebut masih segar dalam ingatan mereka.\n",
    "\n",
    "2. Rata-rata Nilai Transaksi Sebelumnya (Average Previous Transaction Value)\n",
    "Definisi: Rata-rata nilai transaksi dari kunjungan sebelumnya untuk pengguna yang telah melakukan pembelian sebelumnya. <br>\n",
    "Alasan: Pengguna yang memiliki riwayat transaksi dengan nilai tinggi mungkin memiliki probabilitas konversi yang lebih tinggi, serta cenderung melakukan pembelian dengan nilai yang lebih tinggi di masa depan.\n",
    "\n",
    "3. Jumlah Item dalam Keranjang (Number of Items in Cart)\n",
    "Definisi: Jumlah item yang ditambahkan ke keranjang belanja oleh pengguna selama sesi saat ini.<br>\n",
    "Alasan: Pengguna yang menambahkan banyak item ke keranjang belanja mungkin menunjukkan niat yang lebih tinggi untuk melakukan pembelian.\n",
    "\n",
    "4. Metode Pembayaran yang Disukai (Preferred Payment Method)\n",
    "Definisi: Metode pembayaran yang paling sering digunakan oleh pengguna (misalnya, kartu kredit, PayPal, dll).<br>\n",
    "Alasan: Pengguna dengan metode pembayaran yang jelas mungkin lebih cenderung untuk melakukan konversi karena mereka merasa nyaman dengan proses pembayaran.\n",
    "\n",
    "5. Tanggal Sesi (Session Date)\n",
    "Definisi: Tanggal di mana sesi pengguna terjadi.<br>\n",
    "Alasan: Tanggal yang bertepatan dengan periode setelah penerimaan gaji dapat meningkatkan kemungkinan konversi, karena pengguna cenderung memiliki ketersediaan dana yang lebih tinggi untuk melakukan pembelian."
   ]
  },
  {
   "cell_type": "markdown",
   "metadata": {
    "id": "JLh-77M-59oD"
   },
   "source": [
    "### Feature Selection"
   ]
  },
  {
   "cell_type": "code",
   "execution_count": 34,
   "metadata": {
    "colab": {
     "base_uri": "https://localhost:8080/"
    },
    "id": "MwzxlXYg0qVy",
    "outputId": "3950e1d9-4fd8-4f3a-de32-dc7221600fab"
   },
   "outputs": [
    {
     "name": "stdout",
     "output_type": "stream",
     "text": [
      "Sorted Chi-squared statistics for feature selection: Index(['Month_encoded', 'OperatingSystems', 'Browser', 'Region', 'TrafficType',\n",
      "       'VisitorType_isNew_Visitor', 'VisitorType_isReturning_Visitor',\n",
      "       'Weekend', 'SpecialDay'],\n",
      "      dtype='object')\n",
      "                           Feature  Chi2 Statistic       P-value\n",
      "0                    Month_encoded      272.006036  4.146755e-61\n",
      "5        VisitorType_isNew_Visitor      106.988348  4.477944e-25\n",
      "8                       SpecialDay       48.875559  2.727282e-12\n",
      "6  VisitorType_isReturning_Visitor       17.674558  2.621092e-05\n",
      "2                          Browser       11.037620  8.928141e-04\n",
      "7                          Weekend        5.285015  2.150971e-02\n",
      "3                           Region        2.970102  8.481650e-02\n",
      "1                 OperatingSystems        1.577184  2.091667e-01\n",
      "4                      TrafficType        1.132595  2.872225e-01\n"
     ]
    }
   ],
   "source": [
    "from sklearn.feature_selection import chi2\n",
    "from sklearn.preprocessing import LabelEncoder\n",
    "\n",
    "\n",
    "# Assuming df is your dataset containing the required columns\n",
    "X = df[['Month_encoded', 'OperatingSystems', 'Browser', 'Region', 'TrafficType', 'VisitorType_isNew_Visitor', 'VisitorType_isReturning_Visitor', 'Weekend', 'SpecialDay']]\n",
    "y = df['Revenue']\n",
    "\n",
    "# Compute chi2 statistics\n",
    "chi2_stats, p_values = chi2(X, y)\n",
    "\n",
    "# Display results\n",
    "results = pd.DataFrame({\n",
    "    'Feature': X.columns,\n",
    "    'Chi2 Statistic': chi2_stats,\n",
    "    'P-value': p_values\n",
    "})\n",
    "\n",
    "results_sorted = results.sort_values(by='Chi2 Statistic', ascending=False)\n",
    "\n",
    "# Display sorted results\n",
    "print(\"Sorted Chi-squared statistics for feature selection:\", X.columns)\n",
    "print(results_sorted)"
   ]
  },
  {
   "cell_type": "markdown",
   "metadata": {
    "id": "kC4K4LGctN0M"
   },
   "source": [
    "Berdasarkan Uji Chi-square dipilih feature yang memiliki nilai korelasi tertinggi yaitu : Month_encoded, VisitorType_isNew_Visitor, SpecialDay, VisitorType_isReturning_Visitor, Browser, Weekend."
   ]
  },
  {
   "cell_type": "code",
   "execution_count": 36,
   "metadata": {
    "colab": {
     "base_uri": "https://localhost:8080/"
    },
    "id": "GScPTkYoum-t",
    "outputId": "09332e51-dc44-4f99-8cfc-0391b26580c3"
   },
   "outputs": [
    {
     "name": "stdout",
     "output_type": "stream",
     "text": [
      "                    Feature      F-Score        P-Value\n",
      "8                PageValues  3392.421621   0.000000e+00\n",
      "7                 ExitRates   476.170013  2.857379e-103\n",
      "10               Page_Count   288.449847   7.723687e-64\n",
      "4            ProductRelated   268.013941   1.682447e-59\n",
      "9          Session_Duration   247.645912   3.623151e-55\n",
      "5   ProductRelated_Duration   235.339788   1.519804e-52\n",
      "6               BounceRates   231.307308   1.101472e-51\n",
      "0            Administrative   213.037792   8.790680e-48\n",
      "1   Administrative_Duration    97.076404   8.381137e-23\n",
      "2             Informational    87.005625   1.300665e-20\n",
      "3    Informational_Duration    47.546238   5.682070e-12\n",
      "11    Avg_Duration_Per_Page    17.884069   2.367749e-05\n"
     ]
    }
   ],
   "source": [
    "import pandas as pd\n",
    "from sklearn.feature_selection import f_classif\n",
    "\n",
    "# Assuming df is your DataFrame containing the columns mentioned\n",
    "X_columns = ['Administrative', 'Administrative_Duration', 'Informational',\n",
    "             'Informational_Duration', 'ProductRelated', 'ProductRelated_Duration',\n",
    "             'BounceRates', 'ExitRates', 'PageValues', 'Session_Duration',\t'Page_Count', 'Avg_Duration_Per_Page']\n",
    "\n",
    "X = df[X_columns]\n",
    "y = df['Revenue']\n",
    "\n",
    "# Compute ANOVA F-value and p-values\n",
    "f_scores, p_values = f_classif(X, y)\n",
    "\n",
    "# Create a DataFrame to display results\n",
    "results = pd.DataFrame({'Feature': X_columns, 'F-Score': f_scores, 'P-Value': p_values})\n",
    "\n",
    "# Sort the results by F-score in descending order\n",
    "results_sorted_by_fscore = results.sort_values(by='F-Score', ascending=False)\n",
    "\n",
    "# Print the sorted table\n",
    "print(results_sorted_by_fscore)"
   ]
  },
  {
   "cell_type": "markdown",
   "metadata": {
    "id": "OkxOc9jbu0Pb"
   },
   "source": [
    "Berdasarkan Uji Annova dipilih feature yang memiliki nilai korelasi tertinggi yaitu :  PageValues, ExitRates, Page_Count, ProductRelated, Session_Duration."
   ]
  },
  {
   "cell_type": "markdown",
   "metadata": {
    "id": "HB-3LenT_XSB"
   },
   "source": [
    "### Class Imbalance\n"
   ]
  },
  {
   "cell_type": "code",
   "execution_count": 39,
   "metadata": {
    "colab": {
     "base_uri": "https://localhost:8080/"
    },
    "id": "Z-n8Juta_eim",
    "outputId": "88d55e34-3300-492f-c428-e5e3b2872f80"
   },
   "outputs": [
    {
     "data": {
      "text/plain": [
       "Revenue\n",
       "0    8820\n",
       "1    1648\n",
       "Name: count, dtype: int64"
      ]
     },
     "execution_count": 39,
     "metadata": {},
     "output_type": "execute_result"
    }
   ],
   "source": [
    "df['Revenue'].value_counts()"
   ]
  },
  {
   "cell_type": "code",
   "execution_count": 40,
   "metadata": {
    "id": "VnA0zN18_kGt"
   },
   "outputs": [],
   "source": [
    "from imblearn.under_sampling import RandomUnderSampler\n",
    "from imblearn.over_sampling import RandomOverSampler, SMOTE"
   ]
  },
  {
   "cell_type": "code",
   "execution_count": 41,
   "metadata": {
    "colab": {
     "base_uri": "https://localhost:8080/"
    },
    "id": "0rn7SPTf_qEu",
    "outputId": "e9fde2c8-d4a5-453c-8a23-74ebd542113b"
   },
   "outputs": [
    {
     "name": "stdout",
     "output_type": "stream",
     "text": [
      "(10468, 22)\n",
      "(10468,)\n"
     ]
    }
   ],
   "source": [
    "X = df[[col for col in df.columns if (str(df[col].dtype) != 'object') and col not in ['revenue', 'Revenue_True']]]\n",
    "y = df['Revenue'].values\n",
    "print(X.shape)\n",
    "print(y.shape)"
   ]
  },
  {
   "cell_type": "code",
   "execution_count": 42,
   "metadata": {
    "id": "lqp10Tot_u-d"
   },
   "outputs": [],
   "source": [
    "X_under, y_under = RandomUnderSampler(sampling_strategy=0.5).fit_resample(X, y)\n",
    "\n",
    "X_over, y_over = RandomOverSampler(sampling_strategy=0.5).fit_resample(X, y)\n",
    "\n",
    "X_over_SMOTE, y_over_SMOTE = SMOTE(sampling_strategy=0.5).fit_resample(X, y)"
   ]
  },
  {
   "cell_type": "code",
   "execution_count": 43,
   "metadata": {
    "colab": {
     "base_uri": "https://localhost:8080/"
    },
    "id": "ipdiSiPK_0BI",
    "outputId": "9fa5730d-b1b4-4486-9f48-b9053a9ca82e"
   },
   "outputs": [
    {
     "name": "stdout",
     "output_type": "stream",
     "text": [
      "Original\n",
      "0    8820\n",
      "1    1648\n",
      "Name: count, dtype: int64\n",
      "\n",
      "\n",
      "UNDERSAMPLING\n",
      "0    3296\n",
      "1    1648\n",
      "Name: count, dtype: int64\n",
      "\n",
      "\n",
      "OVERSAMPLING\n",
      "0    8820\n",
      "1    4410\n",
      "Name: count, dtype: int64\n",
      "\n",
      "\n",
      "SMOTE\n",
      "0    8820\n",
      "1    4410\n",
      "Name: count, dtype: int64\n"
     ]
    }
   ],
   "source": [
    "print('Original')\n",
    "print(pd.Series(y).value_counts())\n",
    "print('\\n')\n",
    "print('UNDERSAMPLING')\n",
    "print(pd.Series(y_under).value_counts())\n",
    "print('\\n')\n",
    "print('OVERSAMPLING')\n",
    "print(pd.Series(y_over).value_counts())\n",
    "print('\\n')\n",
    "print('SMOTE')\n",
    "print(pd.Series(y_over_SMOTE).value_counts())"
   ]
  },
  {
   "cell_type": "markdown",
   "metadata": {},
   "source": [
    "SMOTE adalah pilihan yang tepat dalam klasifikasi model dengan ketidakseimbangan kelas yang signifikan, seperti pada dataset ini. Dengan menciptakan sampel sintetis dari kelas minoritas, SMOTE secara efektif meningkatkan representasi data minoritas dalam dataset, yang memungkinkan model untuk belajar pola yang lebih baik dari kelas minoritas. Ini tidak hanya mengurangi risiko overfitting dengan memperluas variasi data minoritas, tetapi juga meningkatkan akurasi prediksi pada kelas minoritas."
   ]
  },
  {
   "cell_type": "code",
   "execution_count": 45,
   "metadata": {
    "tags": []
   },
   "outputs": [
    {
     "name": "stdout",
     "output_type": "stream",
     "text": [
      "Original training set shape: (7327, 6)\n",
      "Resampled and scaled training set shape: (12338, 6)\n",
      "Test set shape: (3141, 6)\n",
      "Scaled test set shape: (3141, 6)\n"
     ]
    }
   ],
   "source": [
    "import pandas as pd\n",
    "from sklearn.model_selection import train_test_split\n",
    "from imblearn.over_sampling import SMOTE\n",
    "from sklearn.preprocessing import StandardScaler\n",
    "\n",
    "# Assuming df is your DataFrame and the relevant columns are present\n",
    "# Pastikan kolom yang disebutkan ada dalam DataFrame Anda\n",
    "X = df[['Month_encoded', 'VisitorType_isNew_Visitor', 'SpecialDay', 'PageValues', 'ExitRates', 'Page_Count']]\n",
    "y = df['Revenue']\n",
    "\n",
    "# Split the data into training and testing sets\n",
    "X_train, X_test, y_train, y_test = train_test_split(X, y, test_size=0.3, random_state=42)\n",
    "\n",
    "# Initialize SMOTE\n",
    "smote = SMOTE(random_state=42)\n",
    "\n",
    "# Apply SMOTE to the training data\n",
    "X_train_smote, y_train_smote = smote.fit_resample(X_train, y_train)\n",
    "\n",
    "# Initialize StandardScaler\n",
    "scaler = StandardScaler()\n",
    "\n",
    "# Fit and transform the training data\n",
    "X_train_smote_scaled = scaler.fit_transform(X_train_smote)\n",
    "\n",
    "# Only transform the test data\n",
    "X_test_scaled = scaler.transform(X_test)\n",
    "\n",
    "# Print the shapes to verify the scaling\n",
    "print(f'Original training set shape: {X_train.shape}')\n",
    "print(f'Resampled and scaled training set shape: {X_train_smote_scaled.shape}')\n",
    "print(f'Test set shape: {X_test.shape}')\n",
    "print(f'Scaled test set shape: {X_test_scaled.shape}')\n",
    "\n",
    "# You can now proceed with model training and evaluation using X_train_smote_scaled and X_test_scaled"
   ]
  },
  {
   "cell_type": "code",
   "execution_count": null,
   "metadata": {},
   "outputs": [],
   "source": []
  }
 ],
 "metadata": {
  "colab": {
   "provenance": []
  },
  "kernelspec": {
   "display_name": "Python 3 (ipykernel)",
   "language": "python",
   "name": "python3"
  },
  "language_info": {
   "codemirror_mode": {
    "name": "ipython",
    "version": 3
   },
   "file_extension": ".py",
   "mimetype": "text/x-python",
   "name": "python",
   "nbconvert_exporter": "python",
   "pygments_lexer": "ipython3",
   "version": "3.11.7"
  }
 },
 "nbformat": 4,
 "nbformat_minor": 4
}
